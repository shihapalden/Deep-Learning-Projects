{
 "cells": [
  {
   "cell_type": "code",
   "execution_count": 1,
   "id": "1eee7b17",
   "metadata": {},
   "outputs": [],
   "source": [
    "import numpy as np\n",
    "from tensorflow.keras.preprocessing  import image\n",
    "import tensorflow as tf\n",
    "from tensorflow.keras.preprocessing.image import ImageDataGenerator\n",
    "from tensorflow.keras.models import Sequential\n",
    "from tensorflow.keras.layers import Dense, Dropout, Flatten, Conv2D, MaxPooling2D,  BatchNormalization\n",
    "from tensorflow.keras.optimizers import Adam"
   ]
  },
  {
   "cell_type": "code",
   "execution_count": 2,
   "id": "8f6a1394",
   "metadata": {},
   "outputs": [],
   "source": [
    "train_dir = r'hand\\train'\n",
    "validation_dir = r'hand\\val'"
   ]
  },
  {
   "cell_type": "code",
   "execution_count": 3,
   "id": "2dd14e6e",
   "metadata": {},
   "outputs": [
    {
     "name": "stdout",
     "output_type": "stream",
     "text": [
      "Found 8863 images belonging to 2 classes.\n",
      "Found 600 images belonging to 2 classes.\n"
     ]
    }
   ],
   "source": [
    "train_datagen = ImageDataGenerator(\n",
    "    rescale=1./255,\n",
    "    rotation_range=20,\n",
    "    width_shift_range=0.2,\n",
    "    height_shift_range=0.2,\n",
    "    shear_range=0.2,\n",
    "    zoom_range=0.2,\n",
    "    horizontal_flip=True,\n",
    "    vertical_flip=True,\n",
    "    fill_mode = 'nearest'\n",
    ")\n",
    "\n",
    "validation_datagen = ImageDataGenerator(\n",
    "    rescale = 1./255\n",
    "\n",
    ")\n",
    "\n",
    "train_generator = train_datagen.flow_from_directory(\n",
    "    train_dir,\n",
    "    target_size=(150, 150),\n",
    "    batch_size = 32,\n",
    "    color_mode='grayscale',\n",
    "    class_mode = 'binary'\n",
    ")\n",
    "\n",
    "validation_generator = validation_datagen.flow_from_directory(\n",
    "    validation_dir,\n",
    "    target_size=(150, 150),\n",
    "    batch_size = 32,\n",
    "    color_mode='grayscale',\n",
    "    class_mode='binary'\n",
    ")\n"
   ]
  },
  {
   "cell_type": "code",
   "execution_count": 4,
   "id": "d5a41023",
   "metadata": {},
   "outputs": [],
   "source": [
    "model = Sequential([\n",
    "    Conv2D(32, (3, 3), activation='relu', input_shape=(150, 150, 1)),\n",
    "    BatchNormalization(),\n",
    "    MaxPooling2D(2, 2),\n",
    "\n",
    "    Conv2D(64, (3, 3), activation='relu'),\n",
    "    BatchNormalization(),\n",
    "    MaxPooling2D(2, 2),\n",
    "\n",
    "    Conv2D(128, (3, 3), activation='relu'),\n",
    "    BatchNormalization(),\n",
    "    MaxPooling2D(2, 2),\n",
    "\n",
    "    Conv2D(256, (3, 3), activation='relu'),\n",
    "    BatchNormalization(),\n",
    "    MaxPooling2D(2, 2),\n",
    "\n",
    "    Flatten(),\n",
    "    Dense(512, activation='relu'),\n",
    "    Dropout(0.5),\n",
    "    Dense(1, activation='sigmoid')\n",
    "])\n"
   ]
  },
  {
   "cell_type": "code",
   "execution_count": 5,
   "id": "753acd38",
   "metadata": {},
   "outputs": [],
   "source": [
    "model.compile(\n",
    "    optimizer=Adam(learning_rate=0.001),\n",
    "    loss='binary_crossentropy',\n",
    "    metrics=['accuracy']\n",
    ")"
   ]
  },
  {
   "cell_type": "code",
   "execution_count": 6,
   "id": "197429cc",
   "metadata": {},
   "outputs": [
    {
     "name": "stdout",
     "output_type": "stream",
     "text": [
      "Epoch 1/12\n",
      "276/276 [==============================] - 316s 1s/step - loss: 1.0546 - accuracy: 0.5708 - val_loss: 1.9540 - val_accuracy: 0.5990\n",
      "Epoch 2/12\n",
      "276/276 [==============================] - 296s 1s/step - loss: 0.6629 - accuracy: 0.6077 - val_loss: 0.7925 - val_accuracy: 0.5885\n",
      "Epoch 3/12\n",
      "276/276 [==============================] - 306s 1s/step - loss: 0.6419 - accuracy: 0.6226 - val_loss: 1.3929 - val_accuracy: 0.7031\n",
      "Epoch 4/12\n",
      "276/276 [==============================] - 294s 1s/step - loss: 0.6306 - accuracy: 0.6409 - val_loss: 0.4817 - val_accuracy: 0.7569\n",
      "Epoch 5/12\n",
      "276/276 [==============================] - 297s 1s/step - loss: 0.6061 - accuracy: 0.6614 - val_loss: 1.1248 - val_accuracy: 0.6927\n",
      "Epoch 6/12\n",
      "276/276 [==============================] - 295s 1s/step - loss: 0.5971 - accuracy: 0.6720 - val_loss: 0.4460 - val_accuracy: 0.7934\n",
      "Epoch 7/12\n",
      "276/276 [==============================] - 294s 1s/step - loss: 0.5932 - accuracy: 0.6809 - val_loss: 0.6862 - val_accuracy: 0.4670\n",
      "Epoch 8/12\n",
      "276/276 [==============================] - 319s 1s/step - loss: 0.5641 - accuracy: 0.7045 - val_loss: 0.9377 - val_accuracy: 0.5677\n",
      "Epoch 9/12\n",
      "276/276 [==============================] - 340s 1s/step - loss: 0.5345 - accuracy: 0.7185 - val_loss: 2.7531 - val_accuracy: 0.6354\n",
      "Epoch 10/12\n",
      "276/276 [==============================] - 326s 1s/step - loss: 0.5082 - accuracy: 0.7416 - val_loss: 1.2038 - val_accuracy: 0.5191\n",
      "Epoch 11/12\n",
      "276/276 [==============================] - 306s 1s/step - loss: 0.4897 - accuracy: 0.7479 - val_loss: 6.5203 - val_accuracy: 0.6007\n",
      "Epoch 12/12\n",
      "276/276 [==============================] - 308s 1s/step - loss: 0.4838 - accuracy: 0.7543 - val_loss: 1.0063 - val_accuracy: 0.7378\n"
     ]
    }
   ],
   "source": [
    "history = model.fit(\n",
    "   train_generator,\n",
    "   steps_per_epoch=train_generator.samples // train_generator.batch_size,\n",
    "   epochs=12,\n",
    "   validation_data = validation_generator,\n",
    "   validation_steps = validation_generator.samples // validation_generator.batch_size\n",
    ")"
   ]
  },
  {
   "cell_type": "code",
   "execution_count": 11,
   "id": "905ce7b7",
   "metadata": {},
   "outputs": [
    {
     "name": "stdout",
     "output_type": "stream",
     "text": [
      "19/19 [==============================] - 4s 219ms/step - loss: 1.0138 - accuracy: 0.7383\n",
      "Validation Accuracy:73.83%\n"
     ]
    }
   ],
   "source": [
    "loss, accuracy = model.evaluate(validation_generator)\n",
    "print(f\"Validation Accuracy:{accuracy*100:.2f}%\")"
   ]
  },
  {
   "cell_type": "code",
   "execution_count": 12,
   "id": "36d78491",
   "metadata": {},
   "outputs": [
    {
     "name": "stdout",
     "output_type": "stream",
     "text": [
      "{'fractured': 0, 'not fractured': 1}\n"
     ]
    }
   ],
   "source": [
    "print(train_generator.class_indices)"
   ]
  },
  {
   "cell_type": "code",
   "execution_count": 21,
   "id": "9da6b946",
   "metadata": {},
   "outputs": [],
   "source": [
    "img_path = r'n.jpg'  \n",
    "img = image.load_img(img_path, target_size=(150, 150), color_mode='grayscale')\n",
    "img_array = image.img_to_array(img)\n",
    "img_array = np.expand_dims(img_array, axis=0)\n",
    "img_array /=255.0"
   ]
  },
  {
   "cell_type": "code",
   "execution_count": 22,
   "id": "42d9d895",
   "metadata": {},
   "outputs": [
    {
     "name": "stdout",
     "output_type": "stream",
     "text": [
      "1/1 [==============================] - 0s 243ms/step\n",
      "Raw prediction output: 0.027695752680301666\n",
      "The image is predicted to be fractured.\n"
     ]
    }
   ],
   "source": [
    "prediction = model.predict(img_array)\n",
    "print(f\"Raw prediction output: {prediction[0][0]}\")\n",
    "\n",
    "if prediction[0] < 0.5:\n",
    "    print(\"The image is predicted to be fractured.\")\n",
    "else:\n",
    "    print(\"The image is predicted to be not fractured.\")"
   ]
  }
 ],
 "metadata": {
  "kernelspec": {
   "display_name": "Python 3 (ipykernel)",
   "language": "python",
   "name": "python3"
  },
  "language_info": {
   "codemirror_mode": {
    "name": "ipython",
    "version": 3
   },
   "file_extension": ".py",
   "mimetype": "text/x-python",
   "name": "python",
   "nbconvert_exporter": "python",
   "pygments_lexer": "ipython3",
   "version": "3.10.9"
  }
 },
 "nbformat": 4,
 "nbformat_minor": 5
}
